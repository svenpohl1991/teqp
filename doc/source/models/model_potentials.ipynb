{
 "cells": [
  {
   "cell_type": "markdown",
   "id": "940cc903",
   "metadata": {},
   "source": [
    "# Model Potentials\n",
    "\n",
    "These EOS for model potentials are useful for understanding theory, and capture some (but perhaps not all) of the physics of \"real\" fluids."
   ]
  },
  {
   "cell_type": "markdown",
   "id": "527851a2-27ae-4317-97ff-040cd590a016",
   "metadata": {},
   "source": [
    "The unit systems for all model potentials covered here are reduced quantities defined by:\n",
    "\n",
    "Time: $ t^* = t\\frac{\\sqrt{\\epsilon/m}}{\\sigma}$\n",
    "\n",
    "Velocity: $v^* = v\\frac{m}{\\epsilon}$\n",
    "\n",
    "Temperature: $T^* = \\frac{kT}{\\epsilon}$\n",
    "\n",
    "Particle density: $\\rho^* = \\rho\\sigma^3$\n",
    "\n",
    "Pressure: $p^* = \\frac{p\\sigma^3}{\\epsilon}$\n",
    "\n",
    "Second density virial coefficient: $B^* = \\frac{B}{\\sigma^3}$\n",
    "\n",
    "Within the implementation for the model potentials, the value of $R$ is set to 1, which has the desired cancellation in reduced units. For instance the pressure in reduced units is obtained from:\n",
    "\n",
    "$$ p^* = \\rho^*T^*(1+\\Lambda^{\\rm r}_{01}(T^*,\\rho^*))$$\n",
    "\n",
    "In the case of chains, it is always the segment (or monomer) density that is an input to the routines."
   ]
  },
  {
   "cell_type": "code",
   "execution_count": null,
   "id": "f5463428",
   "metadata": {},
   "outputs": [],
   "source": [
    "import teqp\n",
    "teqp.__version__"
   ]
  },
  {
   "cell_type": "markdown",
   "id": "bf22ac3d",
   "metadata": {},
   "source": [
    "## Square-well\n",
    "\n",
    "The potential is defined by\n",
    "\n",
    "$$\n",
    "V(r) = \\left\\lbrace \\begin{array}{cc}\n",
    "         \\infty & r < \\sigma \\\\\n",
    "         -\\varepsilon & \\sigma < r < \\lambda\\sigma \\\\\n",
    "         0 & r > \\lambda \\sigma\n",
    "         \\end{array}\\right.        \n",
    "$$\n",
    "\n",
    "from which an EOS can be developed by correlating results from molecular simulation. The EOS is from:\n",
    "\n",
    " Rodolfo Espíndola-Heredia, Fernando del Río and Anatol Malijevsky\n",
    " Optimized equation of the state of the\n",
    " square-well fluid of variable range based on\n",
    " a fourth-order free-energy expansion\n",
    " J. Chem. Phys. 130, 024509 (2009); https://doi.org/10.1063/1.3054361\n",
    " "
   ]
  },
  {
   "cell_type": "code",
   "execution_count": null,
   "id": "435a84a9",
   "metadata": {},
   "outputs": [],
   "source": [
    "model = teqp.make_model({  \n",
    "  \"kind\": \"SW_EspindolaHeredia2009\", \n",
    "  \"model\": {\n",
    "      \"lambda\": 1.3\n",
    "  }\n",
    "})"
   ]
  },
  {
   "cell_type": "markdown",
   "id": "f0caf9ea",
   "metadata": {},
   "source": [
    "## EXP-6"
   ]
  },
  {
   "cell_type": "code",
   "execution_count": null,
   "id": "dc38b705",
   "metadata": {},
   "outputs": [],
   "source": [
    "model = teqp.make_model({  \n",
    "  \"kind\": \"EXP6_Kataoka1992\", \n",
    "  \"model\": {\n",
    "      \"alpha\": 12\n",
    "  }\n",
    "})"
   ]
  },
  {
   "cell_type": "markdown",
   "id": "b87cbd05",
   "metadata": {},
   "source": [
    "## Lennard-Jones Fluid\n",
    "\n",
    "The Lennard-Jones potential is given by\n",
    "$$\n",
    "V(r) = 4\\varepsilon\\left((\\sigma/r)^{12}-(\\sigma/r)^{6}\\right)\n",
    "$$\n",
    "\n",
    "and EOS are available from many authors. teqp includes the EOS from Thol, Kolafa-Nezbeda, and Johnson."
   ]
  },
  {
   "cell_type": "code",
   "execution_count": null,
   "id": "739e3e2b",
   "metadata": {},
   "outputs": [],
   "source": [
    "for kind, crit in [\n",
    "    [\"LJ126_TholJPCRD2016\", (1.32, 0.31)], # Note the true critical point was not used\n",
    "    [\"LJ126_KolafaNezbeda1994\", (1.3396, 0.3108)],\n",
    "    [\"LJ126_Johnson1993\", (1.313, 0.310)]]:\n",
    "    \n",
    "    j = { \"kind\": kind, \"model\": {} }\n",
    "    model = teqp.make_model(j)\n",
    "    print(kind, model.solve_pure_critical(1.3, 0.3), crit)"
   ]
  },
  {
   "cell_type": "markdown",
   "id": "36a5a52f",
   "metadata": {},
   "source": [
    "## Mie Fluid\n",
    "The Mie potential is given by\n",
    "$$\n",
    "u(r) = C\\epsilon \\left((\\sigma/r)^{\\lambda_r}-(\\sigma/r)^{\\lambda_a}\\right)\n",
    "$$\n",
    "with \n",
    "$$\n",
    "C = \\frac{\\lambda_r}{\\lambda_r-\\lambda_a}\\left(\\frac{\\lambda_r}{\\lambda_a}\\right)^{\\lambda_a/(\\lambda_r-\\lambda_a)}\n",
    "$$\n",
    "\n",
    "The SAFT-VR-Mie model can be used for this fluid, or two new models from 2023"
   ]
  },
  {
   "cell_type": "code",
   "execution_count": null,
   "id": "696d724c",
   "metadata": {},
   "outputs": [],
   "source": [
    "for kind, model in [\n",
    "    [\"Mie_Chaparro2023\", {\"lambda_r\": 12, \"lambda_a\": 6}],\n",
    "    [\"Mie_Pohl2023\", {\"lambda_r\": 12}]]:\n",
    "    \n",
    "    j = { \"kind\": kind, \"model\": model }\n",
    "    model = teqp.make_model(j)\n",
    "    print(kind, model.solve_pure_critical(1.3, 0.3))"
   ]
  },
  {
   "cell_type": "markdown",
   "id": "fad87158",
   "metadata": {},
   "source": [
    "## Two-Center Lennard-Jones Fluid"
   ]
  },
  {
   "cell_type": "code",
   "execution_count": null,
   "id": "ae5646de",
   "metadata": {},
   "outputs": [],
   "source": [
    "model = teqp.make_model({  \n",
    "  'kind': '2CLJF-Dipole', \n",
    "  'model': {\n",
    "      \"author\": \"2CLJF_Lisal\",\n",
    "      'L^*': 0.5,\n",
    "      '(mu^*)^2': 0.1\n",
    "  }\n",
    "})\n",
    "print(model.solve_pure_critical(1.3, 0.3))\n",
    "\n",
    "model = teqp.make_model({  \n",
    "  'kind': '2CLJF-Quadrupole', \n",
    "  'model': {\n",
    "      \"author\": \"2CLJF_Lisal\",\n",
    "      'L^*': 0.5,\n",
    "      '(Q^*)^2': 0.1\n",
    "  }\n",
    "})\n",
    "print(model.solve_pure_critical(1.3, 0.3))"
   ]
  }
 ],
 "metadata": {
  "kernelspec": {
   "display_name": "Python 3 (ipykernel)",
   "language": "python",
   "name": "python3"
  },
  "language_info": {
   "codemirror_mode": {
    "name": "ipython",
    "version": 3
   },
   "file_extension": ".py",
   "mimetype": "text/x-python",
   "name": "python",
   "nbconvert_exporter": "python",
   "pygments_lexer": "ipython3",
   "version": "3.10.6"
  }
 },
 "nbformat": 4,
 "nbformat_minor": 5
}
