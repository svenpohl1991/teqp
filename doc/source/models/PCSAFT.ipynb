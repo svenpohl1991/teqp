{
 "cells": [
  {
   "cell_type": "markdown",
   "id": "f406bbb5",
   "metadata": {},
   "source": [
    "# PC-SAFT\n",
    "\n",
    "The PC-SAFT implementation in teqp is based on the implementation of Gross and Sadowski (https://doi.org/10.1021/ie0003887), with the typo from their paper fixed.  It does NOT include the association contribution, only the dispersive contributions.\n",
    "\n",
    "The model in teqp requires the user to specify the values of ``sigma``, ``epsilon/kB``, and ``m`` for each substance.  A very few substances are hardcoded in teqp, for testing purposes.  "
   ]
  },
  {
   "cell_type": "raw",
   "id": "d9efd027",
   "metadata": {
    "raw_mimetype": "text/restructuredtext"
   },
   "source": [
    "The Python class is here: :py:class:`PCSAFTEOS <teqp.teqp.PCSAFTEOS>`"
   ]
  },
  {
   "cell_type": "code",
   "execution_count": null,
   "id": "984925ce",
   "metadata": {},
   "outputs": [],
   "source": [
    "import teqp\n",
    "import numpy as np\n",
    "teqp.__version__"
   ]
  },
  {
   "cell_type": "code",
   "execution_count": null,
   "id": "7bbd7129",
   "metadata": {},
   "outputs": [],
   "source": [
    "TeXkey = 'Gross-IECR-2001'\n",
    "ms = [1.0, 1.6069, 2.0020]\n",
    "eoverk = [150.03, 191.42, 208.11]\n",
    "sigmas = [3.7039, 3.5206, 3.6184]\n",
    "\n",
    "coeffs = []\n",
    "for i in range(len(ms)):\n",
    "    c = teqp.SAFTCoeffs()\n",
    "    c.m = ms[i]\n",
    "    c.epsilon_over_k = eoverk[i]\n",
    "    c.sigma_Angstrom = sigmas[i]\n",
    "    coeffs.append(c)\n",
    "    \n",
    "model = teqp.PCSAFTEOS(coeffs)"
   ]
  },
  {
   "cell_type": "code",
   "execution_count": null,
   "id": "19ec9bfb",
   "metadata": {},
   "outputs": [],
   "source": [
    "# Here are some rudimentary timing results\n",
    "T = 300.0\n",
    "rhovec = np.array([3.0, 4.0, 5.0])\n",
    "rho = rhovec.sum()\n",
    "x = rhovec/np.sum(rhovec)\n",
    "%timeit model.get_fugacity_coefficients(T,rhovec)\n",
    "%timeit (-1.0)*model.get_Ar20(T, rho, x)\n",
    "%timeit model.get_partial_molar_volumes(T, rhovec)"
   ]
  },
  {
   "cell_type": "markdown",
   "id": "578630c8",
   "metadata": {},
   "source": [
    "The model parameters can be queried:"
   ]
  },
  {
   "cell_type": "code",
   "execution_count": null,
   "id": "d4e47e54",
   "metadata": {},
   "outputs": [],
   "source": [
    "model.get_m(), model.get_epsilon_over_k_K(), model.get_sigma_Angstrom()"
   ]
  },
  {
   "cell_type": "markdown",
   "id": "5cbb382d",
   "metadata": {},
   "source": [
    "## Adjusting k_ij\n",
    "\n",
    "Fine-tuned values of $k_{ij}$ can be provided when instantiating the model.  A complete matrix of all the $k_{ij}$ values must be provided. This allows for asymmetric mixing models in which $k_{ij}\\neq k_{ji}$."
   ]
  },
  {
   "cell_type": "code",
   "execution_count": null,
   "id": "a32c41b5",
   "metadata": {},
   "outputs": [],
   "source": [
    "k_01 = 0.01; k_10 = k_01\n",
    "kmat = [[0,k_01,0],[k_10,0,0],[0,0,0]]\n",
    "model = teqp.PCSAFTEOS(coeffs, kmat)"
   ]
  },
  {
   "cell_type": "code",
   "execution_count": null,
   "id": "536fac81",
   "metadata": {},
   "outputs": [],
   "source": [
    "# and the matrix of parameters can be printed back out\n",
    "model.get_kmat()"
   ]
  },
  {
   "cell_type": "markdown",
   "id": "bc5519d8",
   "metadata": {},
   "source": [
    "## Alternative a and b matrices\n",
    "\n",
    "In the PC-SAFT implementation of Gross and Sadowski, they have specified coefficients for the approximations used for the integrals in the perturbation theory (Eqs. A.16 to A.19) \n",
    "\n",
    "$$\n",
    "I_1 = \\sum_{i=0}^6a_i(\\bar m)\\eta^i\n",
    "$$\n",
    "$$\n",
    "I_2 = \\sum_{i=0}^6b_i(\\bar m)\\eta^i\n",
    "$$\n",
    "\n",
    "$$\n",
    "a_i(\\bar m) = a_{0i} + \\frac{\\bar m-1}{\\bar m}a_{1i} + \\frac{\\bar m-1}{\\bar m}\\frac{\\bar m-2}{\\bar m}a_{2i}\n",
    "$$\n",
    "$$\n",
    "b_i(\\bar m) = b_{0i} + \\frac{\\bar m-1}{\\bar m}b_{1i} + \\frac{\\bar m-1}{\\bar m}\\frac{\\bar m-2}{\\bar m}b_{2i}\n",
    "$$\n",
    "\n",
    "and they provide tabulated values in Table 1 in their paper, but other works have identified that some of the limitations of PC-SAFT can be traced back to these universal parameters. Thus, as of version 0.21, two additional options for these parameter matrices are available from the works of Liang et al:\n",
    "\n",
    "* \"Liang-IECR-2012\": [Approach to Improve Speed of Sound Calculation within PC-SAFT Framework](https://pubs.acs.org/doi/10.1021/ie3018127)\n",
    "* \"Liang-IECR-2014\": [New Variant of the Universal Constants in the Perturbed Chain-Statistical Associating Fluid Theory Equation of State](https://pubs.acs.org/doi/10.1021/ie503925h)\n",
    "\n",
    "and they can be selected by providing the \"ab\" field in the JSON data structure. Something like this:"
   ]
  },
  {
   "cell_type": "code",
   "execution_count": null,
   "id": "3c62c695",
   "metadata": {},
   "outputs": [],
   "source": [
    "spec = {\n",
    "  \"kind\": \"PCSAFT\", \n",
    "  \"model\": {\n",
    "    \"names\": [\"Methane\", \"Ethane\"], \n",
    "    \"ab\": \"Liang-IECR-2014\"\n",
    "  }\n",
    "}\n",
    "teqp.make_model(spec, validate=True)"
   ]
  },
  {
   "cell_type": "markdown",
   "id": "ca52e844",
   "metadata": {},
   "source": [
    "## Superancillary\n",
    "\n",
    "The superancillary equation for PC-SAFT has been developed, and is much more involved than that of the cubic EOS. As a consequence, the superancillary equation has been provided as a separate package rather than integrating it into to teqp to minimize the binary size of teqp. It can be installed from PYPI with: ``pip install PCSAFTsuperanc``\n",
    "\n",
    "The scaling in the superancillaries uses reduced variables:\n",
    "\n",
    "$$ \\tilde T = T/(\\epsilon/k_{\\rm B}) $$\n",
    "$$ \\tilde\\rho = \\rho_{\\rm N}\\sigma^3 $$\n",
    "\n",
    "where $\\rho_{\\rm N}$ is the number density, and the other parameters are from the PC-SAFT model"
   ]
  },
  {
   "cell_type": "code",
   "execution_count": null,
   "id": "f6e3b8d2",
   "metadata": {},
   "outputs": [],
   "source": [
    "import PCSAFTsuperanc\n",
    "\n",
    "sigma_m = 3e-10 # [meter]\n",
    "e_over_k = 150.0 # [K]\n",
    "m = 5\n",
    "\n",
    "# The saturation temperature\n",
    "T = 300\n",
    "\n",
    "[Ttilde_crit, Ttilde_min] = PCSAFTsuperanc.get_Ttilde_crit_min(m=m)\n",
    "print('Ttilde crit:', Ttilde_crit)\n",
    "\n",
    "# Get the scaled densities for liquid and vapor phases\n",
    "[tilderhoL, tilderhoV] = PCSAFTsuperanc.PCSAFTsuperanc_rhoLV(Ttilde=T/e_over_k, m=m)\n",
    "# Convert back to molar densities\n",
    "N_A = PCSAFTsuperanc.N_A # The value of Avogadro's constant used in superancillaries\n",
    "rhoL, rhoV = [tilderho/(N_A*sigma_m**3) for tilderho in [tilderhoL, tilderhoV]]\n",
    "\n",
    "# As a sanity check, confirm that we got the same pressure in both phases\n",
    "c = teqp.SAFTCoeffs()\n",
    "c.sigma_Angstrom = sigma_m*1e10\n",
    "c.epsilon_over_k = e_over_k \n",
    "c.m = m\n",
    "model = teqp.PCSAFTEOS([c])\n",
    "z = np.array([1.0])\n",
    "pL = rhoL*model.get_R(z)*T*(1+model.get_Ar01(T, rhoL, z))\n",
    "pV = rhoV*model.get_R(z)*T*(1+model.get_Ar01(T, rhoV, z))\n",
    "print('Pressures are:', pL, pV, 'Pa')"
   ]
  },
  {
   "cell_type": "markdown",
   "id": "0bdf568f",
   "metadata": {},
   "source": [
    "## Maximum density\n",
    "\n",
    "The maximum number density allowed by the EOS is defined based on the packing fraction. To get a molar density, divide by Avogadro's number. The function is conveniently exposed in Python:"
   ]
  },
  {
   "cell_type": "code",
   "execution_count": null,
   "id": "3c8491a9",
   "metadata": {},
   "outputs": [],
   "source": [
    "max_rhoN = teqp.PCSAFTEOS(coeffs).max_rhoN(130.0, np.array([0.3, 0.3, 0.4]))\n",
    "display(max_rhoN)\n",
    "max_rhoN/6.022e23 # the maximum molar density in mol/m^3"
   ]
  },
  {
   "cell_type": "markdown",
   "id": "5b310ef6",
   "metadata": {},
   "source": [
    "## Polar contributions\n",
    "\n",
    "As of teqp version 0.15, quadrupolar and dipolar contributions have been added to the hard chain plus dispersion model which is referred to conventionally as PC-SAFT. The definitions of the reduced dipolar and quadrupolar parameters are not well documented, so they are given here. The work of Stoll, Vrabec, and Hasse (https://doi.org/10.1063/1.1623475) clearly describes the formulation of the star-scaling. \n",
    "\n",
    "In SI units, the reduced squared dipole moment is defined by\n",
    "$$\n",
    "\t(\\mu^*)^2_{\\rm conventional} = \\frac{(\\mu[Cm])^2}{4\\pi\\epsilon_0(\\varepsilon[J])(\\sigma[m])^3}\n",
    "$$\n",
    "\n",
    "$$\n",
    "\t(Q^*)^2_{\\rm conventional} = \\frac{(Q[Cm^2])^2}{4\\pi\\epsilon_0(\\varepsilon[J])(\\sigma[m])^5}\n",
    "$$\n",
    "\n",
    "In the PC-SAFT formulation, the only difference is the addition of dividing the denominator by the number of segments $m$\n",
    "\n",
    "$$\n",
    "\t(\\mu^*)^2 = \\frac{(\\mu[Cm])^2}{4\\pi\\epsilon_0m(\\varepsilon/k_{\\rm B}[K])k_B(\\sigma[m])^3}\n",
    "$$\n",
    "$$\n",
    "(Q^*)^2 = \\frac{(Q[Cm^2])^2}{4\\pi\\epsilon_0m(\\varepsilon/k_B[K])k_B(\\sigma[m])^5}\n",
    "$$\n",
    "\n",
    "The unit conversions are obtained from\n",
    "$$\n",
    "(\\sigma[m]) = (10^{-10}m/A)(\\sigma[A])\n",
    "$$\n",
    "$$\n",
    "(\\mu[Cm]) = (3.33564 \\times 10^{-30}  Cm/D)(\\mu[D])\n",
    "$$\n",
    "and $\\epsilon_0=8.85419e-12$ C$^2$  N$^{-1}$ m$^{-2}$ is the permittivity of vacuum. "
   ]
  },
  {
   "cell_type": "code",
   "execution_count": null,
   "id": "01a3552d",
   "metadata": {},
   "outputs": [],
   "source": [
    "# CO2 with quadrupolar contributions\n",
    "j = {\n",
    "    'kind': 'PCSAFT',\n",
    "    'model': {\n",
    "        'coeffs': [{\n",
    "            'name': 'CO2',\n",
    "             'BibTeXKey': 'Gross-AICHEJ',\n",
    "             'm': 1.5131,\n",
    "             'sigma_Angstrom': 3.1869,\n",
    "             'epsilon_over_k': 169.33,\n",
    "             '(Q^*)^2': 1.26, # modified from the values in Gross and Vrabec since the base model is different\n",
    "             'nQ': 1\n",
    "        }]\n",
    "    }\n",
    "}\n",
    "\n",
    "model = teqp.make_model(j)\n",
    "Tc, rhoc = model.solve_pure_critical(300, 11000)\n",
    "\n",
    "T = Tc*0.999\n",
    "rhoL_, rhoV_ = model.extrapolate_from_critical(Tc, rhoc, T)\n",
    "rhoL, rhoV = model.pure_VLE_T(T, rhoL_, rhoV_, 10)\n",
    "\n",
    "import CoolProp.CoolProp as CP\n",
    "import matplotlib.pyplot as plt\n",
    "import pandas\n",
    "o = []\n",
    "for T_ in np.linspace(T, 215, 1000):\n",
    "    rhoL, rhoV = model.pure_VLE_T(T_, rhoL, rhoV, 10)\n",
    "    try:\n",
    "        o.append({\n",
    "          'T': T_, 'rhoL': rhoL, 'rhoV': rhoV, \n",
    "          'rhoLSW': CP.PropsSI('Dmolar','T',T_,'Q',0,'CO2'), \n",
    "          'rhoVSW': CP.PropsSI('Dmolar','T',T_,'Q',1,'CO2')\n",
    "        })\n",
    "    except:\n",
    "        pass\n",
    "df = pandas.DataFrame(o)\n",
    "plt.plot(df['rhoL'], df['T'], 'r', label='PCSAFT+Q')\n",
    "plt.plot(df['rhoV'], df['T'], 'r')\n",
    "plt.plot(df['rhoLSW'], df['T'], 'k', label='S&W')\n",
    "plt.plot(df['rhoVSW'], df['T'], 'k')\n",
    "plt.legend()\n",
    "plt.gca().set(xlabel=r'$\\rho$ / mol/m$^3$', ylabel='$T$ / K')\n",
    "plt.show()"
   ]
  },
  {
   "cell_type": "code",
   "execution_count": null,
   "id": "00312a15",
   "metadata": {},
   "outputs": [],
   "source": [
    "# Acetone with dipolar contributions\n",
    "j = {\n",
    "    'kind': 'PCSAFT',\n",
    "    'model': {\n",
    "        'coeffs': [{\n",
    "            'name': 'acetone',\n",
    "             'BibTeXKey': 'Gross-IECR',\n",
    "             'm': 2.7447,\n",
    "             'sigma_Angstrom': 3.2742,\n",
    "             'epsilon_over_k': 232.99,\n",
    "             '(mu^*)^2': 1.9, # modified from the values in Gross and Vrabec since the base model is different\n",
    "             'nmu': 1\n",
    "        }]\n",
    "    }\n",
    "}\n",
    "\n",
    "model = teqp.make_model(j)\n",
    "Tc, rhoc = model.solve_pure_critical(300, 11000)\n",
    "\n",
    "T = Tc*0.999\n",
    "rhoL_, rhoV_ = model.extrapolate_from_critical(Tc, rhoc, T)\n",
    "rhoL, rhoV = model.pure_VLE_T(T, rhoL_, rhoV_, 10)\n",
    "\n",
    "import CoolProp.CoolProp as CP\n",
    "import matplotlib.pyplot as plt\n",
    "import pandas\n",
    "o = []\n",
    "for T_ in np.linspace(T, 215, 1000):\n",
    "    rhoL, rhoV = model.pure_VLE_T(T_, rhoL, rhoV, 10)\n",
    "    try:\n",
    "        o.append({\n",
    "          'T': T_, 'rhoL': rhoL, 'rhoV': rhoV, \n",
    "          'rhoLSW': CP.PropsSI('Dmolar','T',T_,'Q',0,'acetone'), \n",
    "          'rhoVSW': CP.PropsSI('Dmolar','T',T_,'Q',1,'acetone')\n",
    "        })\n",
    "    except:\n",
    "        pass\n",
    "df = pandas.DataFrame(o)\n",
    "plt.plot(df['rhoL'], df['T'], 'r', label='PCSAFT+D')\n",
    "plt.plot(df['rhoV'], df['T'], 'r')\n",
    "plt.plot(df['rhoLSW'], df['T'], 'k', label='S&W')\n",
    "plt.plot(df['rhoVSW'], df['T'], 'k')\n",
    "plt.legend()\n",
    "plt.gca().set(xlabel=r'$\\rho$ / mol/m$^3$', ylabel='$T$ / K')\n",
    "plt.show()"
   ]
  }
 ],
 "metadata": {
  "celltoolbar": "Raw Cell Format",
  "kernelspec": {
   "display_name": "Python 3 (ipykernel)",
   "language": "python",
   "name": "python3"
  },
  "language_info": {
   "codemirror_mode": {
    "name": "ipython",
    "version": 3
   },
   "file_extension": ".py",
   "mimetype": "text/x-python",
   "name": "python",
   "nbconvert_exporter": "python",
   "pygments_lexer": "ipython3",
   "version": "3.10.6"
  }
 },
 "nbformat": 4,
 "nbformat_minor": 5
}
